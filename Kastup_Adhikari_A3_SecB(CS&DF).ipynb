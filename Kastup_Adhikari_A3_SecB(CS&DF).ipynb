{
 "cells": [
  {
   "cell_type": "markdown",
   "id": "7bcd5756",
   "metadata": {},
   "source": [
    "Question 1 :"
   ]
  },
  {
   "cell_type": "code",
   "execution_count": 41,
   "id": "5d7f542d",
   "metadata": {},
   "outputs": [
    {
     "name": "stdout",
     "output_type": "stream",
     "text": [
      "Unsupported Format...Cannot square a string.\n",
      "Unsupported Format...Cannot square a string.\n",
      "Unsupported Format...Cannot square a string.\n"
     ]
    }
   ],
   "source": [
    "for i in ['a', 'b', 'c']:\n",
    "    try:\n",
    "        print(i ** 2)\n",
    "    except TypeError:\n",
    "        print(\"Unsupported Format...Cannot square a string.\")"
   ]
  },
  {
   "cell_type": "markdown",
   "id": "fdac3a67",
   "metadata": {},
   "source": [
    "Question 2 "
   ]
  },
  {
   "cell_type": "code",
   "execution_count": 42,
   "id": "044f63e5",
   "metadata": {},
   "outputs": [],
   "source": [
    "def calculate_square():\n",
    "    while True:\n",
    "        try:\n",
    "            num = int(input(\"Please enter an integer: \"))\n",
    "            result = num ** 2\n",
    "        except ValueError:\n",
    "            print(\"Unrecognized number! Please try again!\")\n",
    "        else:\n",
    "            print(\"The square of\", num, \"is\", result)\n",
    "            break"
   ]
  },
  {
   "cell_type": "code",
   "execution_count": 43,
   "id": "4e856715",
   "metadata": {},
   "outputs": [
    {
     "name": "stdout",
     "output_type": "stream",
     "text": [
      "Please enter an integer: hello\n",
      "Unrecognized number! Please try again!\n",
      "Please enter an integer: 2\n",
      "The square of 2 is 4\n"
     ]
    }
   ],
   "source": [
    "calculate_square()"
   ]
  },
  {
   "cell_type": "code",
   "execution_count": null,
   "id": "1d129e9c",
   "metadata": {},
   "outputs": [],
   "source": [
    "Question 3"
   ]
  },
  {
   "cell_type": "code",
   "execution_count": 48,
   "id": "1e6b83c8",
   "metadata": {},
   "outputs": [],
   "source": [
    "class Line:\n",
    "    def __init__(self, coordinateA, coordinateB):\n",
    "        self.coordinateA = coordinateA\n",
    "        self.coordinateB = coordinateB\n",
    "\n",
    "    def distance(self):\n",
    "        x1, y1 = self.coordinateA\n",
    "        x2, y2 = self.coordinateB\n",
    "        distance = ((x2 - x1) ** 2 + (y2 - y1) ** 2) ** 0.5\n",
    "        return distance\n",
    "\n",
    "    def slope(self):\n",
    "        x1, y1 = self.coordinateA\n",
    "        x2, y2 = self.coordinateB\n",
    "        slope = (y2 - y1) / (x2 - x1)\n",
    "        return slope\n"
   ]
  },
  {
   "cell_type": "code",
   "execution_count": 49,
   "id": "6060b67b",
   "metadata": {},
   "outputs": [
    {
     "name": "stdout",
     "output_type": "stream",
     "text": [
      "Distance: 9.433981132056603\n",
      "Slope: 1.6\n"
     ]
    }
   ],
   "source": [
    "c1 = (3, 2)\n",
    "c2 = (8, 10)\n",
    "line = Line(c1, c2)\n",
    "distance = line.distance()\n",
    "print(\"Distance:\", distance)\n",
    "slope = line.slope()\n",
    "print(\"Slope:\", slope)"
   ]
  },
  {
   "cell_type": "markdown",
   "id": "ca61a793",
   "metadata": {},
   "source": [
    "Question 4\n"
   ]
  },
  {
   "cell_type": "code",
   "execution_count": 38,
   "id": "df5a9993",
   "metadata": {},
   "outputs": [],
   "source": [
    "class Cylinder:\n",
    "    def __init__(self, height=1, radius=1):\n",
    "        self.height = height\n",
    "        self.radius = radius\n",
    "\n",
    "    def volume(self):\n",
    "        return 3.14159 * (self.radius ** 2) * self.height\n",
    "\n",
    "    def surface_area(self):\n",
    "        base_area = 3.14159 * (self.radius ** 2)\n",
    "        side_area = 2 * 3.14159 * self.radius * self.height\n",
    "        return 2 * base_area + side_area"
   ]
  },
  {
   "cell_type": "code",
   "execution_count": 51,
   "id": "7a28e25b",
   "metadata": {},
   "outputs": [
    {
     "name": "stdout",
     "output_type": "stream",
     "text": [
      "62\n",
      "87\n"
     ]
    }
   ],
   "source": [
    "cylinder1 = Cylinder(height=5, radius=2)\n",
    "print(int(cylinder1.volume()))        \n",
    "print(int(cylinder1.surface_area()))"
   ]
  },
  {
   "cell_type": "markdown",
   "id": "711f10d0",
   "metadata": {},
   "source": [
    "Question 5"
   ]
  },
  {
   "cell_type": "code",
   "execution_count": 52,
   "id": "619c065f",
   "metadata": {},
   "outputs": [],
   "source": [
    "class InputOutString:\n",
    "    def __init__(self):\n",
    "        self.string = \"\"\n",
    "\n",
    "    def getString(self):\n",
    "        self.string = input(\"Enter a string: \")\n",
    "\n",
    "    def printString(self):\n",
    "        print(\"String in upper case:\", self.string.upper())\n",
    "\n",
    "\n",
    "def testInputOutString():\n",
    "    obj = InputOutString()\n",
    "    obj.getString()\n",
    "    obj.printString()"
   ]
  },
  {
   "cell_type": "code",
   "execution_count": 55,
   "id": "2339c81c",
   "metadata": {},
   "outputs": [
    {
     "name": "stdout",
     "output_type": "stream",
     "text": [
      "Enter a string: hello\n",
      "String in upper case: HELLO\n"
     ]
    }
   ],
   "source": [
    "testInputOutString()"
   ]
  },
  {
   "cell_type": "markdown",
   "id": "e79428de",
   "metadata": {},
   "source": [
    "Question 6 "
   ]
  },
  {
   "cell_type": "code",
   "execution_count": 5,
   "id": "5e488b18",
   "metadata": {},
   "outputs": [],
   "source": [
    "def Copy_Content(source_file):\n",
    "    with open(source_file, 'w') as file:\n",
    "        file.write(\"I created a file in your system.\")\n",
    "    new_file_name = source_file[:-4] + \"1\" + source_file[-4:]\n",
    "    try:\n",
    "        with open(source_file, 'r') as source:\n",
    "            file_contents = source.read()\n",
    "        with open(new_file_name, 'w') as destination:\n",
    "            destination.write(file_contents)\n",
    "        print(\"File copied successfully.\")\n",
    "    except FileNotFoundError:\n",
    "        print(\"Source file not found.\")\n",
    "    except Exception as e:\n",
    "        print(f\"An error occurred: {e}\")\n"
   ]
  },
  {
   "cell_type": "code",
   "execution_count": 6,
   "id": "769a5064",
   "metadata": {},
   "outputs": [
    {
     "name": "stdout",
     "output_type": "stream",
     "text": [
      "File copied successfully.\n"
     ]
    }
   ],
   "source": [
    "source_file = \"myfile.txt\"\n",
    "Copy_Content(source_file)\n",
    "   "
   ]
  },
  {
   "cell_type": "markdown",
   "id": "6e05eccc",
   "metadata": {},
   "source": [
    "Question 7"
   ]
  },
  {
   "cell_type": "code",
   "execution_count": 58,
   "id": "97aa004f",
   "metadata": {},
   "outputs": [],
   "source": [
    "sum_of_squares = lambda x, y: x**2 + y**2\n"
   ]
  },
  {
   "cell_type": "code",
   "execution_count": 60,
   "id": "3101919d",
   "metadata": {},
   "outputs": [
    {
     "name": "stdout",
     "output_type": "stream",
     "text": [
      "13\n"
     ]
    }
   ],
   "source": [
    "result = sum_of_squares(2, 3)\n",
    "print(result) "
   ]
  }
 ],
 "metadata": {
  "kernelspec": {
   "display_name": "Python 3 (ipykernel)",
   "language": "python",
   "name": "python3"
  },
  "language_info": {
   "codemirror_mode": {
    "name": "ipython",
    "version": 3
   },
   "file_extension": ".py",
   "mimetype": "text/x-python",
   "name": "python",
   "nbconvert_exporter": "python",
   "pygments_lexer": "ipython3",
   "version": "3.10.9"
  }
 },
 "nbformat": 4,
 "nbformat_minor": 5
}
